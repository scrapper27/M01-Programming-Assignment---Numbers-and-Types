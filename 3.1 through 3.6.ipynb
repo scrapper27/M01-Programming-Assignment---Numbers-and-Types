{
 "cells": [
  {
   "cell_type": "code",
   "execution_count": 3,
   "id": "e8fb5deb",
   "metadata": {},
   "outputs": [
    {
     "name": "stdout",
     "output_type": "stream",
     "text": [
      "seconds in an hour 3600\n"
     ]
    }
   ],
   "source": [
    "seconds_in_an_hour = 60 * 60\n",
    "print(\"seconds in an hour\",seconds_in_an_hour)"
   ]
  },
  {
   "cell_type": "code",
   "execution_count": 17,
   "id": "94bf1190",
   "metadata": {},
   "outputs": [],
   "source": [
    "seconds_per_hour = seconds_in_an_hour\n"
   ]
  },
  {
   "cell_type": "code",
   "execution_count": 22,
   "id": "c86d160c",
   "metadata": {},
   "outputs": [
    {
     "name": "stdout",
     "output_type": "stream",
     "text": [
      "seconds in a day 86400\n"
     ]
    }
   ],
   "source": [
    "seconds_in_a_day = seconds_per_hour * 24\n",
    "print(\"seconds in a day\",seconds_in_a_day)"
   ]
  },
  {
   "cell_type": "code",
   "execution_count": 19,
   "id": "114771e7",
   "metadata": {},
   "outputs": [],
   "source": [
    "seconds_per_day = seconds_in_a_day"
   ]
  },
  {
   "cell_type": "code",
   "execution_count": 20,
   "id": "ea953cd7",
   "metadata": {},
   "outputs": [
    {
     "data": {
      "text/plain": [
       "24.0"
      ]
     },
     "execution_count": 20,
     "metadata": {},
     "output_type": "execute_result"
    }
   ],
   "source": [
    "seconds_per_day / seconds_per_hour"
   ]
  },
  {
   "cell_type": "code",
   "execution_count": 21,
   "id": "c1eb6fcb",
   "metadata": {},
   "outputs": [
    {
     "data": {
      "text/plain": [
       "24"
      ]
     },
     "execution_count": 21,
     "metadata": {},
     "output_type": "execute_result"
    }
   ],
   "source": [
    "seconds_per_day // seconds_per_hour\n"
   ]
  }
 ],
 "metadata": {
  "kernelspec": {
   "display_name": "Python 3 (ipykernel)",
   "language": "python",
   "name": "python3"
  },
  "language_info": {
   "codemirror_mode": {
    "name": "ipython",
    "version": 3
   },
   "file_extension": ".py",
   "mimetype": "text/x-python",
   "name": "python",
   "nbconvert_exporter": "python",
   "pygments_lexer": "ipython3",
   "version": "3.11.5"
  }
 },
 "nbformat": 4,
 "nbformat_minor": 5
}
